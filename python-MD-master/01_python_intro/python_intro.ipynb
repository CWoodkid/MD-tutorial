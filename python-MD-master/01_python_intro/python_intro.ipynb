{
 "cells": [
  {
   "cell_type": "markdown",
   "metadata": {
    "deletable": true,
    "editable": true
   },
   "source": [
    "# What python is\n",
    "\n",
    "Python is an easy to learn, yet powerful programming language. In general, programming languages can be divided into low-level and high-level languages.  \n",
    "In a low-level language you have to tell the computer very detailed and specific what to do. These very specific commands can be executed by your computer quickly, because you tell it exactly what to do.\n",
    "A high-level programming language builds on top of a low-level language. You as programmer no longer have to deal with this low-level stuff. This makes programming very easy and comfortable. However, in the end your code will probably be slower compared to a code written in a low-level language.  \n",
    "As a beginner, you probably don't care about execution speed too much. A high-level language like python is perfect to get started. However, please don't get the impression: \"Python is just something for beginners.\" Python is a widespread programming language used in basically all fields of computation such as science, industry or web applications."
   ]
  },
  {
   "cell_type": "markdown",
   "metadata": {
    "collapsed": false,
    "deletable": true,
    "editable": true
   },
   "source": [
    "# How to use a jupyter notebook\n",
    "\n",
    "You are currently looking at a jupyter notebook. These notebooks are one of the possibilities how to write and execute python code.\n",
    "A jupyter notebook consists of separate code cells. A cell can be executed either by clicking on the play button in the tool bar on top or by pressing shift + enter.\n",
    "\n",
    "__Execute the cell below!__"
   ]
  },
  {
   "cell_type": "code",
   "execution_count": null,
   "metadata": {
    "collapsed": false,
    "deletable": true,
    "editable": true
   },
   "outputs": [],
   "source": [
    "1 + 1"
   ]
  },
  {
   "cell_type": "markdown",
   "metadata": {
    "deletable": true,
    "editable": true
   },
   "source": [
    "As you can see you can use python like a simple calculator. You can use the operators <span style=\"background-color: LightGrey;\">+</span>, <span style=\"background-color: LightGrey;\">-</span>, <span style=\"background-color: LightGrey;\">\\*</span>, <span style=\"background-color: LightGrey;\">/</span> and parentheses <span style=\"background-color: LightGrey;\">()</span> just like you would expect for a normal calculator. The python symbol to calculate powers is <span style=\"background-color: LightGrey;\">\\*\\*</span>. \n",
    "\n",
    "__Use the next cell to calculate the square of 5-3 in python!__"
   ]
  },
  {
   "cell_type": "code",
   "execution_count": null,
   "metadata": {
    "collapsed": false,
    "deletable": true,
    "editable": true
   },
   "outputs": [],
   "source": []
  },
  {
   "cell_type": "markdown",
   "metadata": {
    "deletable": true,
    "editable": true
   },
   "source": [
    "# Variables\n",
    "For more complex calculations it is convenient to store numbers as variables. In principle, any combination of letters, numbers, and underscores which is not starting with a number can be used as a variable name. For readability purposes, it is recommended to use lowercase words separated by underscores as variable names. The <span style=\"background-color: LightGrey;\">=</span> sign is used to assign a value to a variable.\n",
    "\n",
    "__Execute the following example!__"
   ]
  },
  {
   "cell_type": "code",
   "execution_count": null,
   "metadata": {
    "collapsed": false,
    "deletable": true,
    "editable": true
   },
   "outputs": [],
   "source": [
    "my_first_variable = 10\n",
    "my_second_variable = 5.34\n",
    "\n",
    "my_first_variable + my_second_variable"
   ]
  },
  {
   "cell_type": "markdown",
   "metadata": {
    "deletable": true,
    "editable": true
   },
   "source": [
    "Let's say you want to calculate the gravitational force of some object with a mass of 4 kg.\n",
    "\n",
    "__Assign <span style=\"background-color: LightGrey;\">9.81</span> to a variable called <span style=\"background-color: LightGrey;\">acceleration</span>!  \n",
    "Assign <span style=\"background-color: LightGrey;\">4</span> to a variable called <span style=\"background-color: LightGrey;\">mass</span>!  \n",
    "Multiply both variables to calculate the gravitational force!__"
   ]
  },
  {
   "cell_type": "code",
   "execution_count": null,
   "metadata": {
    "collapsed": false,
    "deletable": true,
    "editable": true
   },
   "outputs": [],
   "source": []
  },
  {
   "cell_type": "markdown",
   "metadata": {
    "deletable": true,
    "editable": true
   },
   "source": [
    "Note, that the <span style=\"background-color: LightGrey;\">=</span> is similar to the <span style=\"background-color: LightGrey;\">=</span> in math, but it is not quite the same. Python always evaluates code on the right of the equal sign and assigns it to the variable on the left. So we can do:"
   ]
  },
  {
   "cell_type": "code",
   "execution_count": null,
   "metadata": {
    "collapsed": true,
    "deletable": true,
    "editable": true
   },
   "outputs": [],
   "source": [
    "x = 5 + 2"
   ]
  },
  {
   "cell_type": "markdown",
   "metadata": {
    "deletable": true,
    "editable": true
   },
   "source": [
    "But we can't do:"
   ]
  },
  {
   "cell_type": "code",
   "execution_count": null,
   "metadata": {
    "collapsed": false,
    "deletable": true,
    "editable": true
   },
   "outputs": [],
   "source": [
    "5 + 2 = x"
   ]
  },
  {
   "cell_type": "markdown",
   "metadata": {
    "deletable": true,
    "editable": true
   },
   "source": [
    "One thing we can do in python which does not make sense as a mathematical expression is shown in the following example: "
   ]
  },
  {
   "cell_type": "code",
   "execution_count": null,
   "metadata": {
    "collapsed": false,
    "deletable": true,
    "editable": true
   },
   "outputs": [],
   "source": [
    "x = 5\n",
    "x = x + 1\n",
    "\n",
    "x"
   ]
  },
  {
   "cell_type": "markdown",
   "metadata": {
    "deletable": true,
    "editable": true
   },
   "source": [
    "Here, we took the value of x, added 1 to it and then assigned the result back to the same name x. As a shortcut for such an operation we can use the <span style=\"background-color: LightGrey;\">+=</span> operator:"
   ]
  },
  {
   "cell_type": "code",
   "execution_count": null,
   "metadata": {
    "collapsed": false,
    "deletable": true,
    "editable": true
   },
   "outputs": [],
   "source": [
    "x = 5\n",
    "x += 1\n",
    "\n",
    "x"
   ]
  },
  {
   "cell_type": "markdown",
   "metadata": {
    "deletable": true,
    "editable": true
   },
   "source": [
    "The same also works for <span style=\"background-color: LightGrey;\">+=</span>, <span style=\"background-color: LightGrey;\">-=</span>, <span style=\"background-color: LightGrey;\">*=</span> and <span style=\"background-color: LightGrey;\">/=</span>.  \n",
    "__Assign 3 to a variable called x!  \n",
    "Multiply x with 2 and assign the result to x!  \n",
    "Return the result by typing x!__"
   ]
  },
  {
   "cell_type": "code",
   "execution_count": null,
   "metadata": {
    "collapsed": true,
    "deletable": true,
    "editable": true
   },
   "outputs": [],
   "source": []
  },
  {
   "cell_type": "markdown",
   "metadata": {
    "deletable": true,
    "editable": true
   },
   "source": [
    "Variables can also hold data types other than numbers. For example they can store text. In programming a text piece is called a string. To tell python that something is a string and for example not a variable name, it has to be enclosed in quotes.  \n",
    "__Execute the following example!__"
   ]
  },
  {
   "cell_type": "code",
   "execution_count": null,
   "metadata": {
    "collapsed": false,
    "deletable": true,
    "editable": true
   },
   "outputs": [],
   "source": [
    "my_first_string = 'Kartoffe'\n",
    "my_second_string = 'lauf'\n",
    "\n",
    "my_first_string + my_second_string * 2"
   ]
  },
  {
   "cell_type": "markdown",
   "metadata": {
    "deletable": true,
    "editable": true
   },
   "source": [
    "# Comments\n",
    "Strings are not the only type of text in our code. Sometimes you want to add additional information to a human reader of your code but you don't want python to evaluate it. We can use the <span style=\"background-color: LightGrey;\">#</span> sign to tell python that everything behind this sign in the same line is a comment and should not be evaluated. For example:"
   ]
  },
  {
   "cell_type": "code",
   "execution_count": null,
   "metadata": {
    "collapsed": false,
    "deletable": true,
    "editable": true
   },
   "outputs": [],
   "source": [
    "5 + 7 # here we add 5 and 7 \n",
    "# 3 * 5 this calulation is not evaluated because it is inside the comment."
   ]
  },
  {
   "cell_type": "markdown",
   "metadata": {
    "deletable": true,
    "editable": true
   },
   "source": [
    "Obviously, it is not necessary to comment on every simple statement like the one above but some comments can help to make your code more readable."
   ]
  },
  {
   "cell_type": "markdown",
   "metadata": {
    "deletable": true,
    "editable": true
   },
   "source": [
    "# Functions\n",
    "\n",
    "Sometimes we have to perform specific tasks over and over again. Let's say we have to two variables <span style=\"background-color: LightGrey;\">input_a</span> and <span style=\"background-color: LightGrey;\">input_b</span> and we have to perform the same complicated calculation with both variables. We could solve this problem by just copying and pasting parts of the code. For example:"
   ]
  },
  {
   "cell_type": "code",
   "execution_count": null,
   "metadata": {
    "collapsed": false,
    "deletable": true,
    "editable": true
   },
   "outputs": [],
   "source": [
    "input_a = 5\n",
    "input_b = 9\n",
    "\n",
    "# This is the complicated calculation we want to performe for both variables:\n",
    "intermediate_result = (input_a + 1) * 10 * 20 / 50\n",
    "intermediate_result *= 50 - 40 / 3\n",
    "result_of_a = intermediate_result / 59 * 2\n",
    "\n",
    "# Here, I just copied the code above \n",
    "# and replaced input_a with input_b and result_of_a with result_of_b \n",
    "intermediate_result = (input_b + 1) * 10 * 20 / 50\n",
    "intermediate_result *= 50 - 40 / 3\n",
    "result_of_b = intermediate_result / 59 * 2\n"
   ]
  },
  {
   "cell_type": "markdown",
   "metadata": {
    "deletable": true,
    "editable": true
   },
   "source": [
    "This code is perfectly valid. However, if you code like this your code will soon be very messy. Whenever you start copying parts of your code, there is always a better way to structure your code. In the example above we could clean up the code by defining a function which does this complicated calculation for us. A function is typically something that: takes some input, does something with the input, and then returns something. For example:"
   ]
  },
  {
   "cell_type": "code",
   "execution_count": null,
   "metadata": {
    "collapsed": true,
    "deletable": true,
    "editable": true
   },
   "outputs": [],
   "source": [
    "def square(number):\n",
    "    squared = number * number\n",
    "    return squared"
   ]
  },
  {
   "cell_type": "markdown",
   "metadata": {
    "deletable": true,
    "editable": true
   },
   "source": [
    "So lets go through that step by step. \n",
    "1. We used the keyword <span style=\"color: DarkGreen;\">__def__</span> to state that we want to define a function.\n",
    "2. We selected a name for our new function. In this case the name is \"square\" but we could also have chosen any other name. \n",
    "3. We chose a name for the input argument of our function and place it in <span style=\"background-color: LightGrey;\">()</span>.\n",
    "4. We end this first line with a <span style=\"background-color: LightGrey;\">:</span>\n",
    "5. We define what this function does. In this case we calculate the square of the input. To show that this code belongs to the function definition we place one \"tab\" before the code.\n",
    "6. With the keyword <span style=\"color: DarkGreen;\">__return__</span> we define what this function should return. In this case we return the squared number.\n",
    "\n",
    "Now that we have defined this function, we can use it like this:"
   ]
  },
  {
   "cell_type": "code",
   "execution_count": null,
   "metadata": {
    "collapsed": false,
    "deletable": true,
    "editable": true
   },
   "outputs": [],
   "source": [
    "square(10)"
   ]
  },
  {
   "cell_type": "markdown",
   "metadata": {
    "deletable": true,
    "editable": true
   },
   "source": [
    "Now we can also rewrite our \"complicated calculation\" example nicely. Instead of copying the code, we define a function which does this complicated calculation. Then, we can use this function whenever we need to performe such a calculation. "
   ]
  },
  {
   "cell_type": "code",
   "execution_count": null,
   "metadata": {
    "collapsed": true,
    "deletable": true,
    "editable": true
   },
   "outputs": [],
   "source": [
    "def complicated_calculation(input_number):\n",
    "    intermediate_result = (input_number + 1) * 10 * 20 / 50\n",
    "    intermediate_result *= 50 - 40 / 3\n",
    "    end_result = intermediate_result / 59 * 2\n",
    "    return end_result\n",
    "\n",
    "input_a = 5\n",
    "input_b = 9\n",
    "\n",
    "result_of_a = complicated_calculation(input_a)\n",
    "result_of_b = complicated_calculation(input_b)"
   ]
  },
  {
   "cell_type": "markdown",
   "metadata": {
    "deletable": true,
    "editable": true
   },
   "source": [
    "I hope you aggree that using a function in this example makes the code clearer and easier to read. Now it is your turn!  \n",
    "__Define a function called <span style=\"background-color: LightGrey;\">gravitational_force</span> wich takes an input argument <span style=\"background-color: LightGrey;\">mass</span> and returns the gravitational force.__"
   ]
  },
  {
   "cell_type": "code",
   "execution_count": null,
   "metadata": {
    "collapsed": true,
    "deletable": true,
    "editable": true
   },
   "outputs": [],
   "source": [
    "# Define your function here:\n",
    "\n",
    "# If you defined the function correctly the following statment should\n",
    "# return the gravitational force acting on a mass of 4 kg\n",
    "gravitational_force(4)"
   ]
  },
  {
   "cell_type": "markdown",
   "metadata": {
    "deletable": true,
    "editable": true
   },
   "source": [
    "So far, our functions had exactly one input argument and returned one output. It is also possible to have zero or multiple inputs and or outputs. For example:"
   ]
  },
  {
   "cell_type": "code",
   "execution_count": null,
   "metadata": {
    "collapsed": false,
    "deletable": true,
    "editable": true
   },
   "outputs": [],
   "source": [
    "def add(a, b):\n",
    "    return a + b\n",
    "\n",
    "def return_5_anyway(): # note that you still need brackets even when your function takes no input\n",
    "    return 5\n",
    "\n",
    "return_5_anyway() # also wenn we call a function we allways have to use the brackets"
   ]
  },
  {
   "cell_type": "markdown",
   "metadata": {
    "deletable": true,
    "editable": true
   },
   "source": [
    "## Built-in functions\n",
    "Python already comes with many built-in functions. You can find a complete list [here](https://docs.python.org/3/library/functions.html). One very useful function is the <span style=\"background-color: LightGrey;\">print</span> function. It allows you to print stuff to the output. For example:"
   ]
  },
  {
   "cell_type": "code",
   "execution_count": null,
   "metadata": {
    "collapsed": false,
    "deletable": true,
    "editable": true
   },
   "outputs": [],
   "source": [
    "calculation_result = 13 * 5\n",
    "\n",
    "print(calculation_result)\n",
    "\n",
    "# or maybe even nicer:\n",
    "print('the calculation result is:', calculation_result)"
   ]
  },
  {
   "cell_type": "markdown",
   "metadata": {
    "deletable": true,
    "editable": true
   },
   "source": [
    "We can get access to even more useful functions by importing modules. For example, we can import the math module containing all kinds of mathematical functionality. After the import we can access functions in the module by typing name_of_the_module.function . For example:"
   ]
  },
  {
   "cell_type": "code",
   "execution_count": null,
   "metadata": {
    "collapsed": false,
    "deletable": true,
    "editable": true
   },
   "outputs": [],
   "source": [
    "import math\n",
    "\n",
    "print(math.log(5))"
   ]
  },
  {
   "cell_type": "markdown",
   "metadata": {
    "deletable": true,
    "editable": true
   },
   "source": [
    "There are some modules like \"math\" which are present in every python installation and countless modules which can be installed additionally."
   ]
  },
  {
   "cell_type": "markdown",
   "metadata": {
    "deletable": true,
    "editable": true
   },
   "source": [
    "# Lists and loops\n",
    "Let's come back to this awfully complicated calculation from the previous examples. Let's say we have to do this calculation not only twice but even more often. Our code could look like this:"
   ]
  },
  {
   "cell_type": "code",
   "execution_count": null,
   "metadata": {
    "collapsed": false,
    "deletable": true,
    "editable": true
   },
   "outputs": [],
   "source": [
    "def complicated_calculation(input_number):\n",
    "    intermediate_result = (input_number + 1) * 10 * 20 / 50\n",
    "    intermediate_result *= 50 - 40 / 3\n",
    "    end_result = intermediate_result / 59 * 2\n",
    "    return end_result\n",
    "\n",
    "input_1 = 5\n",
    "input_2 = 9\n",
    "input_3 = 3\n",
    "input_4 = 2\n",
    "input_5 = 7\n",
    "input_6 = 8\n",
    "\n",
    "result_of_1 = complicated_calculation(input_1)\n",
    "print(result_of_1)\n",
    "\n",
    "result_of_2 = complicated_calculation(input_2)\n",
    "print(result_of_2)\n",
    "\n",
    "result_of_3 = complicated_calculation(input_3)\n",
    "print(result_of_3)\n",
    "\n",
    "result_of_4 = complicated_calculation(input_4)\n",
    "print(result_of_4)\n",
    "\n",
    "result_of_5 = complicated_calculation(input_5)\n",
    "print(result_of_5)\n",
    "\n",
    "result_of_6 = complicated_calculation(input_6)\n",
    "print(result_of_6)"
   ]
  },
  {
   "cell_type": "markdown",
   "metadata": {
    "deletable": true,
    "editable": true
   },
   "source": [
    "Luckily we already banned this complicated calculation into the body of a function, so we don't have to deal with it each time we do the calculation. Still, the code is pretty long and contains lots of repetitions.  \n",
    "Lists can help use to make this more efficient. Instead of creating several variables <span style=\"background-color: LightGrey;\">input_1</span>, <span style=\"background-color: LightGrey;\">input_2</span>, <span style=\"background-color: LightGrey;\">input_3</span> ... it is more convenient to store all the values in a list:"
   ]
  },
  {
   "cell_type": "code",
   "execution_count": null,
   "metadata": {
    "collapsed": true,
    "deletable": true,
    "editable": true
   },
   "outputs": [],
   "source": [
    "inputs = [5, 9, 3, 2, 7, 8]"
   ]
  },
  {
   "cell_type": "markdown",
   "metadata": {
    "deletable": true,
    "editable": true
   },
   "source": [
    "A list is defined with square brackets and list elements are separated by commas.  \n",
    "Whenever we want to access an element of a list we can do so by typing the list name and the index of the element in square brackets."
   ]
  },
  {
   "cell_type": "code",
   "execution_count": null,
   "metadata": {
    "collapsed": false,
    "deletable": true,
    "editable": true
   },
   "outputs": [],
   "source": [
    "inputs = [5, 9, 3, 2, 7, 8]\n",
    "\n",
    "print(inputs[3])\n",
    "print(inputs[0])\n",
    "print(inputs[-1])  # returns the last element of the list"
   ]
  },
  {
   "cell_type": "markdown",
   "metadata": {
    "deletable": true,
    "editable": true
   },
   "source": [
    "It is important to note that python starts counting with 0. So the first element of a list has the index 0 and not index 1.  \n",
    "__Print the fifth element of the inputs list!__ (it should be a 7)"
   ]
  },
  {
   "cell_type": "code",
   "execution_count": null,
   "metadata": {
    "collapsed": false,
    "deletable": true,
    "editable": true
   },
   "outputs": [],
   "source": [
    "inputs = [5, 9, 3, 2, 7, 8]\n",
    "print(# your code goes here)"
   ]
  },
  {
   "cell_type": "markdown",
   "metadata": {
    "deletable": true,
    "editable": true
   },
   "source": [
    "It is also possible to get slices of the complete list. The general notation is [begin:end:step]. For example:"
   ]
  },
  {
   "cell_type": "code",
   "execution_count": null,
   "metadata": {
    "collapsed": false,
    "deletable": true,
    "editable": true
   },
   "outputs": [],
   "source": [
    "inputs = [5, 9, 3, 2, 7, 8]\n",
    "\n",
    "print(inputs[:4]) # the first four list elements\n",
    "print(inputs[1:4]) # elements from index 1 to (not including) index 4\n",
    "print(inputs[::2]) # every second element"
   ]
  },
  {
   "cell_type": "markdown",
   "metadata": {
    "deletable": true,
    "editable": true
   },
   "source": [
    "Ok. Now we have conveniently stored all our input values in a list. But how do we perform our \"complicated calculation\" with all these inputs? The easiest solution is to use a for loop. have a look at the following example:"
   ]
  },
  {
   "cell_type": "code",
   "execution_count": null,
   "metadata": {
    "collapsed": false,
    "deletable": true,
    "editable": true
   },
   "outputs": [],
   "source": [
    "inputs = [5, 9, 3, 2, 7, 8]\n",
    "\n",
    "for number in inputs:\n",
    "    print(number)"
   ]
  },
  {
   "cell_type": "markdown",
   "metadata": {
    "deletable": true,
    "editable": true
   },
   "source": [
    "Let's go through that step by step:\n",
    "1. We defined a list called <span style=\"background-color: LightGrey;\">inputs</span>.\n",
    "2. We used the keyword <span style=\"color: DarkGreen;\">__for__</span> to make a for loop.\n",
    "3. We chose a name for the current element. In this case the name <span style=\"background-color: LightGrey;\">number</span> was chosen.\n",
    "4. after the keyword <span style=\"color: DarkGreen;\">__in__</span> we specify which list we want to iterate over.\n",
    "5. end line with <span style=\"background-color: LightGrey;\">:</span>\n",
    "6. in the indented body of the loop we specify what we want do with each element. In this case we print each element."
   ]
  },
  {
   "cell_type": "markdown",
   "metadata": {
    "deletable": true,
    "editable": true
   },
   "source": [
    "Using a list and a for loop we can rewrite our \"complicated calculation\" example as follows:"
   ]
  },
  {
   "cell_type": "code",
   "execution_count": null,
   "metadata": {
    "collapsed": false,
    "deletable": true,
    "editable": true
   },
   "outputs": [],
   "source": [
    "def complicated_calculation(input_number):\n",
    "    intermediate_result = (input_number + 1) * 10 * 20 / 50\n",
    "    intermediate_result *= 50 - 40 / 3\n",
    "    end_result = intermediate_result / 59 * 2\n",
    "    return end_result\n",
    "\n",
    "inputs = [5, 9, 3, 2, 7, 8]\n",
    "\n",
    "for number in inputs:\n",
    "    result = complicated_calculation(number)\n",
    "    print(result)"
   ]
  },
  {
   "cell_type": "markdown",
   "metadata": {
    "deletable": true,
    "editable": true
   },
   "source": [
    "Now it's your turn again.  \n",
    "* __Define a function which returns the gravitational force (you can use the one you have written before)__ \n",
    "* __create a list of masses of your choice__\n",
    "* __use a loop to iterate over all masses and print the gravitational force for each mass__"
   ]
  },
  {
   "cell_type": "code",
   "execution_count": null,
   "metadata": {
    "collapsed": true,
    "deletable": true,
    "editable": true
   },
   "outputs": [],
   "source": []
  },
  {
   "cell_type": "markdown",
   "metadata": {
    "deletable": true,
    "editable": true
   },
   "source": [
    "# Objects\n",
    "Let's say we want to write a game where some kind of creatures interact with each other. During the game we have to keep track of different properties of each creature and each creature should have certain functions it can perform. To store all these properties and and functions in one place we can create an object. Have a look at the following code:"
   ]
  },
  {
   "cell_type": "code",
   "execution_count": null,
   "metadata": {
    "collapsed": false,
    "deletable": true,
    "editable": true
   },
   "outputs": [],
   "source": [
    "# First, we have to define what properties and functions our object should have.\n",
    "# Our object will later be created as an instance of the class we define here.\n",
    "class Creature:\n",
    "    # In the __init__ function we define what happens when an instance of this class is created.\n",
    "    # Note that each function in an object gets the object itself as first input argument.\n",
    "    def __init__(self, initial_health, start_position):\n",
    "        self.health = initial_health  # Here, we set a property of our object called health to initial_health. \n",
    "        self.position = start_position\n",
    "    \n",
    "    # Here we define some functions (also called methods) our object should have. \n",
    "    def move(self, new_position):\n",
    "        self.position = new_position\n",
    "    \n",
    "    def attack(self, target):\n",
    "        target.health -= 5\n",
    "\n",
    "        \n",
    "# Now, that we have defined what a creature is we can create instances of the creature class.\n",
    "# Here, we create a creature object called bob and one called eve.\n",
    "# The following statement calls the __init__ function of the Creature class \n",
    "# and passes an initial_health and a start_position.\n",
    "# The start position is passed as a list containing an x and a y coordinate.\n",
    "bob = Creature(100, [5, 3])\n",
    "eve = Creature(120, [4, 3])\n",
    "\n",
    "# the object properties and functions can be accessed by object_name.property:\n",
    "print('Bob\\'s health is:', bob.health)\n",
    "print('Eve\\'s health is:', eve.health)\n",
    "\n",
    "eve.attack(bob)\n",
    "\n",
    "print('after Eve\\'s attack Bob\\'s health is:', bob.health)"
   ]
  },
  {
   "cell_type": "markdown",
   "metadata": {
    "deletable": true,
    "editable": true
   },
   "source": [
    "Obviously, this is not a finished game yet but hopefully it's clear how objects can help to write code for such an example.  \n",
    "Now your task is to define a class yourself.  \n",
    "* Define a class named Ball!\n",
    "* Each ball should have the properties <span style=\"background-color: LightGrey;\">position</span>, <span style=\"background-color: LightGrey;\">velocity</span>, and <span style=\"background-color: LightGrey;\">radius</span> that are set when calling the \\__init__ function. (Note, that there are two underscores in the front and at the end of the name)\n",
    "* Create an instance of the class Ball called tennis_ball with a position [0, 1] a velocity [0, 0] and a radius 0.033\n"
   ]
  },
  {
   "cell_type": "code",
   "execution_count": null,
   "metadata": {
    "collapsed": false,
    "deletable": true,
    "editable": true
   },
   "outputs": [],
   "source": [
    "# Define your class here\n",
    "\n",
    "\n",
    "# Create an instance called tennis_ball here\n",
    "\n",
    "\n",
    "# If you have done everything correctly the following should print\n",
    "# the position, velocity and radius of the tennis ball.\n",
    "print('the position of the tennis ball is:', tennis_ball.position)\n",
    "print('the velocity of the tennis ball is:', tennis_ball.velocity)\n",
    "print('the radius of the tennis ball is:' , tennis_ball.radius)"
   ]
  },
  {
   "cell_type": "markdown",
   "metadata": {
    "deletable": true,
    "editable": true
   },
   "source": [
    "Okay, now the properties of the ball are set. It has a position represented by a list with an x and y coordinate. You can also think of this list as a vector. So far, you have set the x value to 0 and the y value to 1. This means, the ball is floating in a height of 1 (meter). The ball's velocity is also a vector which, so far, only contains zeros.\n",
    "\n",
    "\n",
    "A ball floating in a height of 1 meter is not very realistic. The ball should be able to move! We assume that there is no friction. The only thing that changes the velocity of the ball is the gravitational force. To make the ball move you have to:\n",
    "1. Update the position of the ball. We will do that be adding the velocity multiplied with time step. This is not absolutely correct because the velocity is not constant during a step. However, if we keep the step size reasonably small we should be fine.\n",
    "2. Update the velocity of the ball. \n",
    "__Fix the code below to make the ball move!__"
   ]
  },
  {
   "cell_type": "code",
   "execution_count": null,
   "metadata": {
    "collapsed": false,
    "deletable": true,
    "editable": true
   },
   "outputs": [],
   "source": [
    "class Ball:\n",
    "    def __init__(self, start_position, start_velocity, radius):\n",
    "        self.position = start_position\n",
    "        self.velocity = start_velocity\n",
    "        self.radius = radius\n",
    "    \n",
    "    # so for the move function doesn't change anything. Fix it!\n",
    "    def move(self, time_step):\n",
    "        self.position[0] += 0\n",
    "        self.position[1] += 0\n",
    "        \n",
    "        self.velocity[0] += 0\n",
    "        self.velocity[1] += 0\n",
    "        \n",
    "tennis_ball = Ball([0, 1], [0, 0], 0.033)\n",
    "time_step = 0.04\n",
    "\n",
    "for step in range(1, 15): # range is a built-in function which returns all number is a given range\n",
    "    tennis_ball.move(time_step)\n",
    "    print('time:', step*time_step, 'position:', tennis_ball.position)\n",
    "        "
   ]
  },
  {
   "cell_type": "markdown",
   "metadata": {
    "deletable": true,
    "editable": true
   },
   "source": [
    "If you fixed the code correctly, it should take the ball roughly 0.45 s to fall from a height of 1 meter before it reaches y = 0. Then, the ball continues to fall to negative y values. Again, this is not a very realistic behaviour of our ball. At y = 0 there is the floor of our room. It should perform an elastic collision and bounce up again. We somehow have to adjust our behaviour when our ball hits the floor."
   ]
  },
  {
   "cell_type": "markdown",
   "metadata": {
    "deletable": true,
    "editable": true
   },
   "source": [
    "# Conditions\n",
    "First, we have to get to know one more data type: a boolean. A boolean can only have two different states. It can either be True or False. We for example create a boolean if we compare things. for example:"
   ]
  },
  {
   "cell_type": "code",
   "execution_count": null,
   "metadata": {
    "collapsed": false,
    "deletable": true,
    "editable": true
   },
   "outputs": [],
   "source": [
    "print(5 > 1)\n",
    "print(5 < 3)"
   ]
  },
  {
   "cell_type": "markdown",
   "metadata": {
    "deletable": true,
    "editable": true
   },
   "source": [
    "We can also check if things are equal <span style=\"background-color: LightGrey;\">==</span> or not equal <span style=\"background-color: LightGrey;\">!=</span> "
   ]
  },
  {
   "cell_type": "code",
   "execution_count": null,
   "metadata": {
    "collapsed": false,
    "deletable": true,
    "editable": true
   },
   "outputs": [],
   "source": [
    "print(5 == 5)  # note that we use == as = is already used for assignments in python\n",
    "print(5 != 3)"
   ]
  },
  {
   "cell_type": "markdown",
   "metadata": {
    "deletable": true,
    "editable": true
   },
   "source": [
    "Such booleans can be used to adjust the behaviour of our code in certain conditions by using the <span style=\"color: DarkGreen;\">__if__</span>-statement. All code in the body of an <span style=\"color: DarkGreen;\">__if__</span>-statement is only executed when the condition of the if statement evaluates to True. Have look at the following example:"
   ]
  },
  {
   "cell_type": "code",
   "execution_count": null,
   "metadata": {
    "collapsed": false,
    "deletable": true,
    "editable": true
   },
   "outputs": [],
   "source": [
    "if 5 > 1:\n",
    "    # this is executed because 5 > 1 is True\n",
    "    print('5 > 1 is True')\n",
    "\n",
    "if 5 < 3:\n",
    "    # this is not executed because 5 < 3 is False\n",
    "    print('I can write what I want. It will not be printed')"
   ]
  },
  {
   "cell_type": "markdown",
   "metadata": {
    "deletable": true,
    "editable": true
   },
   "source": [
    "Knowing about conditions we can now update our tennis_ball code to make it bounce. \n",
    "__Before updating the velocity, check whether the position has a negative y component. If that is the case invert the sign of velocity's y-component.__"
   ]
  },
  {
   "cell_type": "code",
   "execution_count": null,
   "metadata": {
    "collapsed": false,
    "deletable": true,
    "editable": true,
    "scrolled": false
   },
   "outputs": [],
   "source": [
    "class Ball:\n",
    "    def __init__(self, start_position, start_velocity, radius):\n",
    "        self.position = start_position\n",
    "        self.velocity = start_velocity\n",
    "        self.radius = radius\n",
    "    \n",
    "    def move(self, time_step):\n",
    "        self.position[0] += self.velocity[0] * time_step\n",
    "        self.position[1] += self.velocity[1] * time_step\n",
    "        \n",
    "        # fix the move function here to make the ball bounce\n",
    "        \n",
    "        self.velocity[0] += 0\n",
    "        self.velocity[1] -= 9.81 * time_step\n",
    "        \n",
    "        \n",
    "tennis_ball = Ball([0, 1], [0.2, 0], 0.033)\n",
    "time_step = 0.04\n",
    "number_of_steps = 150\n",
    "\n",
    "trajectory = []  # this is an empty list\n",
    "\n",
    "for step in range(number_of_steps):\n",
    "    tennis_ball.move(time_step)\n",
    "    trajectory.append(tennis_ball.position[:])  # append adds something at the end of a list\n",
    "\n",
    "    \n",
    "\n",
    "# don't worry about the code below too much it just crates an animation\n",
    "# of your calculated positions.\n",
    "from animation import animate\n",
    "%matplotlib notebook\n",
    "\n",
    "ani = animate(trajectory, time_step*100/0.04)\n"
   ]
  },
  {
   "cell_type": "markdown",
   "metadata": {
    "deletable": true,
    "editable": true
   },
   "source": [
    "Probably you have noticed that the ball reaches smaller and smaller heights. It somehow looses energy although we have not included any friction. What is the reason for that?  \n",
    "__Change the timestep to 0.004 and see how the behaviour changes!__  \n",
    "(Hint: if you reduce the time_step you might want to increase the number_of_steps accordingly)"
   ]
  },
  {
   "cell_type": "markdown",
   "metadata": {
    "deletable": true,
    "editable": true
   },
   "source": [
    "Great! You have just done your first own tennis ball computer simulation, and from simulating tennis balls to simulating atoms and molecules it is realy not a big step! \n",
    "\n",
    "This was a very condensed introduction to python. If you want to learn more python, you can find hundreds of tutorials online. One good address to get started is [www.codecademy.com](https://www.codecademy.com/).  \n",
    "You can also check out [codecombat.com](https://codecombat.com/) It is more a game than a tutorial but still you can learn some python along the way."
   ]
  }
 ],
 "metadata": {
  "kernelspec": {
   "display_name": "Python 3",
   "language": "python",
   "name": "python3"
  },
  "language_info": {
   "codemirror_mode": {
    "name": "ipython",
    "version": 3
   },
   "file_extension": ".py",
   "mimetype": "text/x-python",
   "name": "python",
   "nbconvert_exporter": "python",
   "pygments_lexer": "ipython3",
   "version": "3.5.2"
  }
 },
 "nbformat": 4,
 "nbformat_minor": 2
}
