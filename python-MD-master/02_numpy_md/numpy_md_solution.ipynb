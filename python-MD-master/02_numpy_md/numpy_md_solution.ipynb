{
 "cells": [
  {
   "cell_type": "markdown",
   "metadata": {},
   "source": [
    "# What Numpy is\n",
    "\n",
    "Numpy is a python library for efficient operations with vectors, matrices an n-dimensional arrays. In this tutorial you will get to know some numpy basics and use them to write your own molecular dynamics (MD) code."
   ]
  },
  {
   "cell_type": "markdown",
   "metadata": {
    "deletable": true,
    "editable": true
   },
   "source": [
    "# Import of Numpy\n",
    "first of all we need to import numpy. Typically numpy is given the name \"np\" when it is imported."
   ]
  },
  {
   "cell_type": "code",
   "execution_count": 4,
   "metadata": {
    "deletable": true,
    "editable": true
   },
   "outputs": [],
   "source": [
    "import numpy as np"
   ]
  },
  {
   "cell_type": "markdown",
   "metadata": {
    "deletable": true,
    "editable": true
   },
   "source": [
    "# Creation of numpy arrays"
   ]
  },
  {
   "cell_type": "markdown",
   "metadata": {
    "deletable": true,
    "editable": true
   },
   "source": [
    "Numpy arrays can be created for example using:  \n",
    "np.zeros(shape) --> array filled with zeros  \n",
    "np.ones(shape) --> array fille with ones  \n",
    "np.random.random(shape) --> array filled with random numbers in the interval [0,1)  \n",
    "\n",
    "For example:"
   ]
  },
  {
   "cell_type": "code",
   "execution_count": 5,
   "metadata": {
    "collapsed": false,
    "deletable": true,
    "editable": true,
    "jupyter": {
     "outputs_hidden": false
    }
   },
   "outputs": [
    {
     "name": "stdout",
     "output_type": "stream",
     "text": [
      "[[1. 1. 1.]\n",
      " [1. 1. 1.]]\n"
     ]
    }
   ],
   "source": [
    "example_array = np.ones((2, 3))\n",
    "print(example_array)"
   ]
  },
  {
   "cell_type": "markdown",
   "metadata": {
    "deletable": true,
    "editable": true
   },
   "source": [
    "Create an array filled with zeros and one filled with random numberers in the interval [0,1), each with a shape (5, 2)."
   ]
  },
  {
   "cell_type": "code",
   "execution_count": null,
   "metadata": {
    "collapsed": false,
    "deletable": true,
    "editable": true,
    "jupyter": {
     "outputs_hidden": false
    }
   },
   "outputs": [],
   "source": [
    "my_zeros_array = # your code goes here\n",
    "my_random_array = # your code goes here\n",
    "\n",
    "print(my_zeros_array)\n",
    "print(my_random_array)"
   ]
  },
  {
   "cell_type": "code",
   "execution_count": 7,
   "metadata": {},
   "outputs": [
    {
     "name": "stdout",
     "output_type": "stream",
     "text": [
      "Zeros Array:\n",
      "[[0. 0.]\n",
      " [0. 0.]\n",
      " [0. 0.]\n",
      " [0. 0.]\n",
      " [0. 0.]]\n",
      "\n",
      "Random Array:\n",
      "[[0.38282138 0.99858038]\n",
      " [0.74100864 0.9870134 ]\n",
      " [0.02296771 0.44322135]\n",
      " [0.35596449 0.96724142]\n",
      " [0.09498948 0.30669306]]\n"
     ]
    }
   ],
   "source": [
    "my_zeros_array = np.zeros((5, 2))\n",
    "my_random_array = np.random.random((5, 2))\n",
    "\n",
    "print(\"Zeros Array:\")\n",
    "print(my_zeros_array)\n",
    "print(\"\\nRandom Array:\")\n",
    "print(my_random_array)"
   ]
  },
  {
   "cell_type": "markdown",
   "metadata": {
    "deletable": true,
    "editable": true
   },
   "source": [
    "Numpy arrays can also be created from lists using the np.array() function. Create numpy arrays from the following two lists!"
   ]
  },
  {
   "cell_type": "code",
   "execution_count": null,
   "metadata": {
    "collapsed": false,
    "deletable": true,
    "editable": true,
    "jupyter": {
     "outputs_hidden": false
    }
   },
   "outputs": [],
   "source": [
    "atom1_xyz = [5, 2, 8]\n",
    "atom2_xyz = [8, 4, 6]\n",
    "\n",
    "atom1_xyz_np = # your code goes here\n",
    "atom2_xyz_np = # your code goes here\n",
    "\n",
    "print(atom1_xyz_np)\n",
    "print(atom2_xyz_np)"
   ]
  },
  {
   "cell_type": "code",
   "execution_count": 8,
   "metadata": {},
   "outputs": [
    {
     "name": "stdout",
     "output_type": "stream",
     "text": [
      "[5 2 8]\n",
      "[8 4 6]\n"
     ]
    }
   ],
   "source": [
    "atom1_xyz = [5, 2, 8]\n",
    "atom2_xyz = [8, 4, 6]\n",
    "\n",
    "atom1_xyz_np = np.array(atom1_xyz)\n",
    "atom2_xyz_np = np.array(atom2_xyz)\n",
    "\n",
    "print(atom1_xyz_np)\n",
    "print(atom2_xyz_np)"
   ]
  },
  {
   "cell_type": "markdown",
   "metadata": {
    "deletable": true,
    "editable": true
   },
   "source": [
    "# Basic Operations"
   ]
  },
  {
   "cell_type": "markdown",
   "metadata": {
    "deletable": true,
    "editable": true
   },
   "source": [
    "Lets say we want to calculate the vector pointing from atom1 to atom2. In pure python we would need a loop iterarting over the two vectors. For example like this:"
   ]
  },
  {
   "cell_type": "code",
   "execution_count": 9,
   "metadata": {
    "collapsed": false,
    "deletable": true,
    "editable": true,
    "jupyter": {
     "outputs_hidden": false
    }
   },
   "outputs": [
    {
     "name": "stdout",
     "output_type": "stream",
     "text": [
      "[3, 2, -2]\n"
     ]
    }
   ],
   "source": [
    "vec = []\n",
    "for i in range(len(atom1_xyz)):\n",
    "    vec.append(atom2_xyz[i] - atom1_xyz[i])\n",
    "\n",
    "print(vec)\n",
    "    "
   ]
  },
  {
   "cell_type": "markdown",
   "metadata": {
    "deletable": true,
    "editable": true
   },
   "source": [
    "Using numpy arrays this is a lot easier and faster. For two arrays of the same shape \"+\" \"-\" \"/\" \"*\" operations will be applied elementwise to the whole arrays. Calculate the vector pointing from atom1 to atom2 using numpy!"
   ]
  },
  {
   "cell_type": "code",
   "execution_count": null,
   "metadata": {
    "collapsed": true,
    "deletable": true,
    "editable": true,
    "jupyter": {
     "outputs_hidden": true
    }
   },
   "outputs": [],
   "source": [
    "vec = # your code goes here\n",
    "print(vec)"
   ]
  },
  {
   "cell_type": "code",
   "execution_count": 10,
   "metadata": {},
   "outputs": [
    {
     "name": "stdout",
     "output_type": "stream",
     "text": [
      "[ 3  2 -2]\n"
     ]
    }
   ],
   "source": [
    "# Assumes atom1_xyz_np and atom2_xyz_np from the previous cell have been defined\n",
    "vec = atom2_xyz_np - atom1_xyz_np\n",
    "print(vec)"
   ]
  },
  {
   "cell_type": "markdown",
   "metadata": {
    "deletable": true,
    "editable": true
   },
   "source": [
    "We can not only use these operations for two arrays of the same shape. Whenever each dimension of the two arrays has either the same size or one of them has size 1, numpy broadcasts the smaller array to the shape of the larger array. Lets see how this works in an example:"
   ]
  },
  {
   "cell_type": "code",
   "execution_count": 12,
   "metadata": {
    "collapsed": false,
    "deletable": true,
    "editable": true,
    "jupyter": {
     "outputs_hidden": false
    }
   },
   "outputs": [],
   "source": [
    "a = np.array([[2, 1], \n",
    "              [3, 4], \n",
    "              [9, 2], \n",
    "              [7, 1]])           "
   ]
  },
  {
   "cell_type": "markdown",
   "metadata": {
    "deletable": true,
    "editable": true
   },
   "source": [
    "The array a has the shape (4, 2). In the first dimension there are 4 entries and in the second dimension there are 2 entries."
   ]
  },
  {
   "cell_type": "code",
   "execution_count": 13,
   "metadata": {
    "deletable": true,
    "editable": true
   },
   "outputs": [],
   "source": [
    "b = np.array([[2, 3]])"
   ]
  },
  {
   "cell_type": "markdown",
   "metadata": {
    "deletable": true,
    "editable": true
   },
   "source": [
    "The array b has the shape (1, 2). In the first dimension one of them has the size 1. In the second dimension they both have the same size (2). Because all dimensions have eighter equal size or one of them is 1 numpy will be able to braodcast b to the shape of a. That is why we can for example do:"
   ]
  },
  {
   "cell_type": "code",
   "execution_count": 14,
   "metadata": {
    "collapsed": false,
    "deletable": true,
    "editable": true,
    "jupyter": {
     "outputs_hidden": false
    }
   },
   "outputs": [
    {
     "name": "stdout",
     "output_type": "stream",
     "text": [
      "[[ 4  3]\n",
      " [ 6 12]\n",
      " [18  6]\n",
      " [14  3]]\n"
     ]
    }
   ],
   "source": [
    "c = a * b\n",
    "print(c)"
   ]
  },
  {
   "cell_type": "markdown",
   "metadata": {
    "deletable": true,
    "editable": true
   },
   "source": [
    "When we combine two arrays with different numbers of dimensions, all missing dimensions starting from the last dimension are treates as dimension with size one. For example:"
   ]
  },
  {
   "cell_type": "code",
   "execution_count": 15,
   "metadata": {
    "collapsed": false,
    "deletable": true,
    "editable": true,
    "jupyter": {
     "outputs_hidden": false
    }
   },
   "outputs": [
    {
     "name": "stdout",
     "output_type": "stream",
     "text": [
      "[[-3 -4]\n",
      " [-2 -1]\n",
      " [ 4 -3]\n",
      " [ 2 -4]]\n"
     ]
    }
   ],
   "source": [
    "a = np.array([[2, 1], \n",
    "              [3, 4], \n",
    "              [9, 2], \n",
    "              [7, 1]]) # has shape (4, 2)\n",
    "d = np.array([5])  # has shape (1) and is treated like shape (1, 1)\n",
    "\n",
    "print(a - d)"
   ]
  },
  {
   "cell_type": "markdown",
   "metadata": {
    "deletable": true,
    "editable": true
   },
   "source": [
    "We can alos do the same with a numpy array and somthing that is convertible into a numpy array. So, a shortcut for the example above would be:"
   ]
  },
  {
   "cell_type": "code",
   "execution_count": 16,
   "metadata": {
    "collapsed": false,
    "deletable": true,
    "editable": true,
    "jupyter": {
     "outputs_hidden": false
    }
   },
   "outputs": [
    {
     "name": "stdout",
     "output_type": "stream",
     "text": [
      "[[-3 -4]\n",
      " [-2 -1]\n",
      " [ 4 -3]\n",
      " [ 2 -4]]\n"
     ]
    }
   ],
   "source": [
    "print(a - 5)"
   ]
  },
  {
   "cell_type": "markdown",
   "metadata": {
    "deletable": true,
    "editable": true
   },
   "source": [
    "Use broadcasting to caculate all the vectors from atom1 to all other atoms! other_atoms is a 2d array where the first dimension represents different atoms and the second dimension represents the x, y and z coordinates."
   ]
  },
  {
   "cell_type": "code",
   "execution_count": null,
   "metadata": {
    "collapsed": false,
    "deletable": true,
    "editable": true,
    "jupyter": {
     "outputs_hidden": false
    }
   },
   "outputs": [],
   "source": [
    "atom1 = np.array([5, 2, 8])\n",
    "other_atoms = np.array([[5, 1, 4],\n",
    "                        [8, 4, 6],\n",
    "                        [3, 2, 4],\n",
    "                        [9, 7, 3]])\n",
    "\n",
    "vectors_from_atom1_to_all_others = # your code goes here\n",
    "print(vectors_from_atom1_to_all_others)"
   ]
  },
  {
   "cell_type": "code",
   "execution_count": 17,
   "metadata": {},
   "outputs": [
    {
     "name": "stdout",
     "output_type": "stream",
     "text": [
      "[[ 0 -1 -4]\n",
      " [ 3  2 -2]\n",
      " [-2  0 -4]\n",
      " [ 4  5 -5]]\n"
     ]
    }
   ],
   "source": [
    "atom1 = np.array([5, 2, 8])\n",
    "other_atoms = np.array([[5, 1, 4],\n",
    "                        [8, 4, 6],\n",
    "                        [3, 2, 4],\n",
    "                        [9, 7, 3]])\n",
    "\n",
    "vectors_from_atom1_to_all_others = other_atoms - atom1\n",
    "print(vectors_from_atom1_to_all_others)"
   ]
  },
  {
   "cell_type": "markdown",
   "metadata": {
    "deletable": true,
    "editable": true
   },
   "source": [
    "# Indexing"
   ]
  },
  {
   "cell_type": "markdown",
   "metadata": {
    "deletable": true,
    "editable": true
   },
   "source": [
    "Now that we have caclulated some things we also want to access specific numbers in our result arrays. Numpy arrays can be indexed or sliced much like python lists. For example:"
   ]
  },
  {
   "cell_type": "code",
   "execution_count": 18,
   "metadata": {
    "collapsed": false,
    "deletable": true,
    "editable": true,
    "jupyter": {
     "outputs_hidden": false
    }
   },
   "outputs": [
    {
     "name": "stdout",
     "output_type": "stream",
     "text": [
      "4\n",
      "[ 3  4  5  6  7  8  9 10]\n",
      "[3 4 5 6 7 8]\n",
      "[3 5 7]\n",
      "[1 2 3 4 5 6 7 8]\n"
     ]
    }
   ],
   "source": [
    "a = np.array([1, 2, 3, 4, 5, 6, 7, 8, 9, 10])\n",
    "\n",
    "print(a[3])     # a at the position 3 (keep in mind python counts from 0!)\n",
    "print(a[2:])    # all numbers from position 2 to the end\n",
    "print(a[2:8])   # all numbers from position 2 to (not including) position 8\n",
    "print(a[2:8:2]) # every second number in the same range as above\n",
    "print(a[:-2])   # all numbers except for the last two"
   ]
  },
  {
   "cell_type": "markdown",
   "metadata": {
    "deletable": true,
    "editable": true
   },
   "source": [
    "For higherdimensional arrays idexes for the different dimensions are separated by kommas. For example:"
   ]
  },
  {
   "cell_type": "code",
   "execution_count": 19,
   "metadata": {
    "collapsed": false,
    "deletable": true,
    "editable": true,
    "jupyter": {
     "outputs_hidden": false
    }
   },
   "outputs": [
    {
     "name": "stdout",
     "output_type": "stream",
     "text": [
      "2\n",
      "[1 2 3]\n",
      "[[1 2]\n",
      " [4 5]\n",
      " [7 8]]\n"
     ]
    }
   ],
   "source": [
    "a = np.array([[1, 2, 3],\n",
    "              [4, 5, 6],\n",
    "              [7, 8, 9]])\n",
    "\n",
    "print(a[0, 1]) # the element in the row 0 and column 1\n",
    "print(a[0, :]) # all elements in row 0\n",
    "print(a[:, :-1]) # all elements in all columns except for the last culumn"
   ]
  },
  {
   "cell_type": "markdown",
   "metadata": {
    "deletable": true,
    "editable": true
   },
   "source": [
    "Try to slice out the following block from the array a!"
   ]
  },
  {
   "cell_type": "code",
   "execution_count": null,
   "metadata": {
    "collapsed": false,
    "deletable": true,
    "editable": true,
    "jupyter": {
     "outputs_hidden": false
    }
   },
   "outputs": [],
   "source": [
    "block = np.array([[5, 6],\n",
    "                  [8, 9]])\n",
    "\n",
    "slice_of_a = a[# your code goes in here]\n",
    "    \n",
    "    \n",
    "if np.array_equal(block, slice_of_a):\n",
    "    print('That is correct!')\n",
    "else:\n",
    "    print('Sorry you have sliced out\\n', slice_of_a, 'instead')"
   ]
  },
  {
   "cell_type": "code",
   "execution_count": 20,
   "metadata": {},
   "outputs": [
    {
     "name": "stdout",
     "output_type": "stream",
     "text": [
      "That is correct!\n"
     ]
    }
   ],
   "source": [
    "# This code assumes the 'a' from the previous cell is defined as:\n",
    "# a = np.array([[1, 2, 3],\n",
    "#               [4, 5, 6],\n",
    "#               [7, 8, 9]])\n",
    "\n",
    "block = np.array([[5, 6],\n",
    "                  [8, 9]])\n",
    "\n",
    "# We want rows starting from index 1 and columns starting from index 1.\n",
    "slice_of_a = a[1:, 1:]\n",
    "\n",
    "\n",
    "if np.array_equal(block, slice_of_a):\n",
    "    print('That is correct!')\n",
    "else:\n",
    "    print('Sorry you have sliced out\\\\n', slice_of_a, 'instead')"
   ]
  },
  {
   "cell_type": "markdown",
   "metadata": {
    "deletable": true,
    "editable": true
   },
   "source": [
    "But this is not all. We can also do more fancy indexing. If we compare two arrays or an array with something that can be broadcasted to the same shape, we get an array of booleans returned. This array is the result of an elementwise comparison. Such boolean arrays can also be used for indexing. Lets see how this works:"
   ]
  },
  {
   "cell_type": "code",
   "execution_count": 21,
   "metadata": {
    "collapsed": false,
    "deletable": true,
    "editable": true,
    "jupyter": {
     "outputs_hidden": false
    }
   },
   "outputs": [
    {
     "name": "stdout",
     "output_type": "stream",
     "text": [
      "[[False  True  True]\n",
      " [ True False  True]\n",
      " [ True  True False]]\n"
     ]
    }
   ],
   "source": [
    "a = np.array([[2, 3, 5],\n",
    "              [5, 2, 3],\n",
    "              [3, 5, 2]])\n",
    "\n",
    "print(a > 2) # we could also use \"==\" \"<\" \">\" \"<=\" \">=\" \"!=\""
   ]
  },
  {
   "cell_type": "markdown",
   "metadata": {
    "deletable": true,
    "editable": true
   },
   "source": [
    "Lets see how we use such boolean arrays for indexing:"
   ]
  },
  {
   "cell_type": "code",
   "execution_count": 22,
   "metadata": {
    "collapsed": false,
    "deletable": true,
    "editable": true,
    "jupyter": {
     "outputs_hidden": false
    }
   },
   "outputs": [
    {
     "name": "stdout",
     "output_type": "stream",
     "text": [
      "[[2 4 6]\n",
      " [6 2 4]\n",
      " [4 6 2]]\n"
     ]
    }
   ],
   "source": [
    "a = np.array([[2, 3, 5],\n",
    "              [5, 2, 3],\n",
    "              [3, 5, 2]])\n",
    "\n",
    "a[a > 2] += 1 # here we add one to each value larger then 2\n",
    "\n",
    "print(a)"
   ]
  },
  {
   "cell_type": "markdown",
   "metadata": {
    "deletable": true,
    "editable": true
   },
   "source": [
    "Set all numbers in a which equal 2, to 0."
   ]
  },
  {
   "cell_type": "code",
   "execution_count": null,
   "metadata": {
    "collapsed": false,
    "deletable": true,
    "editable": true,
    "jupyter": {
     "outputs_hidden": false
    }
   },
   "outputs": [],
   "source": [
    "a[?] =  # your code goes in here\n",
    "print(a)"
   ]
  },
  {
   "cell_type": "code",
   "execution_count": 23,
   "metadata": {},
   "outputs": [
    {
     "name": "stdout",
     "output_type": "stream",
     "text": [
      "[[0 4 6]\n",
      " [6 0 4]\n",
      " [4 6 0]]\n"
     ]
    }
   ],
   "source": [
    "# This code assumes the 'a' from the previous cell is defined as:\n",
    "# a = np.array([[2, 3, 5],\n",
    "#               [5, 2, 3],\n",
    "#               [3, 5, 2]])\n",
    "\n",
    "a[a == 2] = 0\n",
    "print(a)"
   ]
  },
  {
   "cell_type": "markdown",
   "metadata": {
    "deletable": true,
    "editable": true
   },
   "source": [
    "# Your first own numpy MD code"
   ]
  },
  {
   "cell_type": "markdown",
   "metadata": {
    "deletable": true,
    "editable": true
   },
   "source": [
    "Now you have learned enough to test your numpy knowledge in an exciting example. You will write your own basic MD code. For a start it will be so basic it won't even be able to simulate 256 Argon atoms. For visualization purposes and to keep it simple we will performe our simulation in a 2D square box. \n",
    "\n",
    "### Task 1: Add atoms!\n",
    "When we create an object from our simulation class the init function will be called. So far init adds the attributes n_atoms (number of atoms) and box_size. The simulation object also needs all the atom positions and velocities.  \n",
    "self.positions and self.velocities should both be 2D numpy arrays. The first dimension should have one element per atom and the second dimension should have 2 elements representing an x and y values. To distribute atoms randomly in the whole box the self.positons should contain random numbers between 0 and box_size. Velocities should contain random numbers between -0.005 and +0.005. __Add positions and velocities to the class definition below and execute the cell.__ Hint: If you restart the cell while it was still runnig you wont see any output. Use the stop button first. \n",
    "\n",
    "(If you have done everything correctly you should see randomly distributed atoms in the appearing plot.)\n",
    "\n",
    "### Task 2: Make them move!\n",
    "So far our atoms are not moving. We need to fix that in our run function. The velocities array contains velocities in the unit distance/step. All you need to do each step is to add the velocities to the current positions to get the new positions and to overwrite self.positions with these new postions. __Make the atoms move!__  \n",
    "\n",
    "(If you have done everything correctly you should see the atoms move. However they wont stop at the boarders of the box.)\n",
    "\n",
    "### Task 3: Keep them in the box!\n",
    "Obviously we don't want our atoms to go outside of the box. We want to keep them in the box by enforcing periodic boundary conditions. That is where our keep_in_box function comes into play. __Use fancy indexing with boolean arrays to detect which atoms are outside the box and place them inside the box again__.\n",
    "\n",
    "If you have completed all 3 tasks above you have just performed your fist simulation of a 2D ideal gas with your own numpy MD code. If you want to further play around with numpy and python feel free to make the simulation more complex. Add forces, add different types of atoms, introduce a black hole that eats up atoms or do what ever you like!"
   ]
  },
  {
   "cell_type": "code",
   "execution_count": 27,
   "metadata": {
    "collapsed": false,
    "deletable": true,
    "editable": true,
    "jupyter": {
     "outputs_hidden": false
    }
   },
   "outputs": [
    {
     "data": {
      "image/png": "[encoded data removed]",
      "text/plain": [
       "<Figure size 640x480 with 1 Axes>"
      ]
     },
     "metadata": {},
     "output_type": "display_data"
    },
    {
     "data": {
      "image/png": "[encoded data removed]",
      "text/plain": [
       "<Figure size 640x480 with 1 Axes>"
      ]
     },
     "metadata": {},
     "output_type": "display_data"
    }
   ],
   "source": [
    "import matplotlib.pyplot as plt\n",
    "from IPython.display import clear_output, display\n",
    "%matplotlib inline\n",
    "import numpy as np\n",
    "\n",
    "\n",
    "class Simulation:\n",
    "    def __init__(self, n_atoms, box_size):\n",
    "        self.n_atoms = n_atoms\n",
    "        self.box_size = box_size\n",
    "        self.positions = # Task 1\n",
    "        self.velocities =  # Task 1\n",
    "        self.fig, self.ax = plt.subplots()\n",
    "    \n",
    "    def run(self, n_steps):\n",
    "        for step in range(n_steps):\n",
    "            self.positions = self.positions  # Task 2\n",
    "            self.keep_in_box()\n",
    "            \n",
    "            self.show(step)\n",
    "    \n",
    "    def keep_in_box(self):\n",
    "        self.positions[...] += 0 # Task 3\n",
    "        self.positions[...] -= 0 # Task 3\n",
    "    \n",
    "    def show(self, step):\n",
    "        self.ax.scatter(self.positions[:, 0], self.positions[:, 1])\n",
    "        self.ax.set_ylim((0, self.box_size))\n",
    "        self.ax.set_xlim((0, self.box_size))\n",
    "        self.ax.text(0.4, 0.9, 'step ' + str(step),\n",
    "                     bbox={'facecolor':'white', 'alpha':0.5, 'pad':7})\n",
    "        self.ax.set_aspect('equal', adjustable='box')\n",
    "        clear_output(True)\n",
    "        display(self.fig)\n",
    "        self.ax.cla()\n",
    "        \n",
    "\n",
    "\n",
    "            \n",
    "sim = Simulation(n_atoms=100, box_size=1)\n",
    "sim.run(n_steps=500)\n"
   ]
  },
  {
   "cell_type": "code",
   "execution_count": 29,
   "metadata": {
    "collapsed": false,
    "editable": true,
    "jupyter": {
     "outputs_hidden": false
    }
   },
   "outputs": [
    {
     "data": {
      "image/png": "[encoded data removed]",
      "text/plain": [
       "<Figure size 640x480 with 1 Axes>"
      ]
     },
     "metadata": {},
     "output_type": "display_data"
    },
    {
     "data": {
      "image/png": "[encoded data removed]",
      "text/plain": [
       "<Figure size 640x480 with 1 Axes>"
      ]
     },
     "metadata": {},
     "output_type": "display_data"
    }
   ],
   "source": [
    "#static balls\n",
    "\n",
    "\n",
    "\n",
    "import matplotlib.pyplot as plt\n",
    "from IPython.display import clear_output, display\n",
    "%matplotlib inline\n",
    "import numpy as np\n",
    "\n",
    "\n",
    "class Simulation:\n",
    "    def __init__(self, n_atoms, box_size):\n",
    "        self.n_atoms = n_atoms\n",
    "        self.box_size = box_size\n",
    "        self.positions = np.random.random((self.n_atoms, 2)) * self.box_size\n",
    "        self.velocities =  (np.random.random((self.n_atoms, 2)) * 0.01) - 0.005\n",
    "        self.fig, self.ax = plt.subplots()\n",
    "    \n",
    "    def run(self, n_steps):\n",
    "        for step in range(n_steps):\n",
    "            self.positions = self.positions # Task 2\n",
    "            self.keep_in_box()\n",
    "            \n",
    "            self.show(step)\n",
    "    \n",
    "    def keep_in_box(self):\n",
    "        self.positions[...] += 0 # Task 3\n",
    "        self.positions[...] -= 0 # Task 3\n",
    "    \n",
    "    def show(self, step):\n",
    "        self.ax.scatter(self.positions[:, 0], self.positions[:, 1])\n",
    "        self.ax.set_ylim((0, self.box_size))\n",
    "        self.ax.set_xlim((0, self.box_size))\n",
    "        self.ax.text(0.4, 0.9, 'step ' + str(step),\n",
    "                     bbox={'facecolor':'white', 'alpha':0.5, 'pad':7})\n",
    "        self.ax.set_aspect('equal', adjustable='box')\n",
    "        clear_output(True)\n",
    "        display(self.fig)\n",
    "        self.ax.cla()\n",
    "        \n",
    "\n",
    "\n",
    "            \n",
    "sim = Simulation(n_atoms=100, box_size=1)\n",
    "sim.run(n_steps=500)\n"
   ]
  },
  {
   "cell_type": "code",
   "execution_count": null,
   "metadata": {
    "collapsed": false,
    "editable": true,
    "jupyter": {
     "outputs_hidden": false
    }
   },
   "outputs": [
    {
     "data": {
      "image/png": "[encoded data removed]",
      "text/plain": [
       "<Figure size 640x480 with 1 Axes>"
      ]
     },
     "metadata": {},
     "output_type": "display_data"
    }
   ],
   "source": [
    "#moving out\n",
    "\n",
    "\n",
    "import matplotlib.pyplot as plt\n",
    "from IPython.display import clear_output, display\n",
    "%matplotlib inline\n",
    "import numpy as np\n",
    "\n",
    "\n",
    "class Simulation:\n",
    "    def __init__(self, n_atoms, box_size):\n",
    "        self.n_atoms = n_atoms\n",
    "        self.box_size = box_size\n",
    "        self.positions = np.random.random((self.n_atoms, 2)) * self.box_size\n",
    "        self.velocities =  (np.random.random((self.n_atoms, 2)) * 0.01) - 0.005\n",
    "        self.fig, self.ax = plt.subplots()\n",
    "    \n",
    "    def run(self, n_steps):\n",
    "        for step in range(n_steps):\n",
    "            self.positions += self.velocities  # Task 2\n",
    "            self.keep_in_box()\n",
    "            \n",
    "            self.show(step)\n",
    "    \n",
    "    def keep_in_box(self):\n",
    "        self.positions[...] += 0 # Task 3\n",
    "        self.positions[...] -= 0 # Task 3\n",
    "    \n",
    "    def show(self, step):\n",
    "        self.ax.scatter(self.positions[:, 0], self.positions[:, 1])\n",
    "        self.ax.set_ylim((0, self.box_size))\n",
    "        self.ax.set_xlim((0, self.box_size))\n",
    "        self.ax.text(0.4, 0.9, 'step ' + str(step),\n",
    "                     bbox={'facecolor':'white', 'alpha':0.5, 'pad':7})\n",
    "        self.ax.set_aspect('equal', adjustable='box')\n",
    "        clear_output(True)\n",
    "        display(self.fig)\n",
    "        self.ax.cla()\n",
    "        \n",
    "\n",
    "\n",
    "            \n",
    "sim = Simulation(n_atoms=100, box_size=1)\n",
    "sim.run(n_steps=500)\n"
   ]
  },
  {
   "cell_type": "code",
   "execution_count": 30,
   "metadata": {},
   "outputs": [
    {
     "data": {
      "image/png": "[encoded data removed]",
      "text/plain": [
       "<Figure size 640x480 with 1 Axes>"
      ]
     },
     "metadata": {},
     "output_type": "display_data"
    },
    {
     "data": {
      "image/png": "[encoded data removed]",
      "text/plain": [
       "<Figure size 640x480 with 1 Axes>"
      ]
     },
     "metadata": {},
     "output_type": "display_data"
    }
   ],
   "source": [
    "import matplotlib.pyplot as plt\n",
    "from IPython.display import clear_output, display\n",
    "%matplotlib inline\n",
    "import numpy as np\n",
    "\n",
    "\n",
    "class Simulation:\n",
    "    def __init__(self, n_atoms, box_size):\n",
    "        self.n_atoms = n_atoms\n",
    "        self.box_size = box_size\n",
    "        # Task 1: Initialize positions with random numbers from 0 to box_size\n",
    "        self.positions = np.random.random((self.n_atoms, 2)) * self.box_size\n",
    "        # Task 1: Initialize velocities with random numbers from -0.005 to 0.005\n",
    "        self.velocities = (np.random.random((self.n_atoms, 2)) * 0.01) - 0.005\n",
    "        self.fig, self.ax = plt.subplots()\n",
    "    \n",
    "    def run(self, n_steps):\n",
    "        for step in range(n_steps):\n",
    "            # Task 2: Update positions by adding velocities\n",
    "            self.positions += self.velocities\n",
    "            \n",
    "            self.keep_in_box()\n",
    "            \n",
    "            self.show(step)\n",
    "    \n",
    "    def keep_in_box(self):\n",
    "        # Task 3: Enforce periodic boundary conditions\n",
    "        # If an atom is outside the box to the right/top, subtract box_size to wrap it around.\n",
    "        self.positions[self.positions > self.box_size] -= self.box_size\n",
    "        # If an atom is outside the box to the left/bottom, add box_size to wrap it around.\n",
    "        self.positions[self.positions < 0] -= -self.box_size\n",
    "    \n",
    "    def show(self, step):\n",
    "        self.ax.scatter(self.positions[:, 0], self.positions[:, 1])\n",
    "        self.ax.set_ylim((0, self.box_size))\n",
    "        self.ax.set_xlim((0, self.box_size))\n",
    "        self.ax.text(0.4 * self.box_size, 0.9 * self.box_size, 'step ' + str(step),\n",
    "                     bbox={'facecolor':'white', 'alpha':0.5, 'pad':7})\n",
    "        self.ax.set_aspect('equal', adjustable='box')\n",
    "        clear_output(True)\n",
    "        display(self.fig)\n",
    "        self.ax.cla()\n",
    "        \n",
    "        \n",
    "sim = Simulation(n_atoms=100, box_size=1)\n",
    "sim.run(n_steps=500)"
   ]
  },
  {
   "cell_type": "code",
   "execution_count": null,
   "metadata": {},
   "outputs": [],
   "source": []
  }
 ],
 "metadata": {
  "kernelspec": {
   "display_name": "Python 3 (ipykernel)",
   "language": "python",
   "name": "python3"
  },
  "language_info": {
   "codemirror_mode": {
    "name": "ipython",
    "version": 3
   },
   "file_extension": ".py",
   "mimetype": "text/x-python",
   "name": "python",
   "nbconvert_exporter": "python",
   "pygments_lexer": "ipython3",
   "version": "3.10.12"
  }
 },
 "nbformat": 4,
 "nbformat_minor": 4
}
